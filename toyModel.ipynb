{
 "cells": [
  {
   "cell_type": "code",
   "execution_count": 1,
   "id": "b09dfb89",
   "metadata": {},
   "outputs": [],
   "source": [
    "import os\n",
    "import torch\n",
    "from torch import nn, optim\n",
    "import torch.nn.functional as F\n",
    "from torchvision import datasets, transforms\n",
    "import numpy as np\n",
    "from sklearn.metrics import accuracy_score"
   ]
  },
  {
   "cell_type": "code",
   "execution_count": 2,
   "id": "f9932485",
   "metadata": {},
   "outputs": [],
   "source": [
    "class Classifier(nn.Module):     \n",
    "    \"\"\"     Our simple classifier     \"\"\"\n",
    "    def __init__(self):         \n",
    "        super().__init__()         \n",
    "        self.fc1 = nn.Linear(784, 256)         \n",
    "        self.fc2 = nn.Linear(256, 128)         \n",
    "        self.fc3 = nn.Linear(128, 64)         \n",
    "        self.fc4 = nn.Linear(64, 10)   \n",
    "\n",
    "    def forward(self, x):         \n",
    "        x = x.view(x.shape[0], -1)                   \n",
    "        x = F.relu(self.fc1(x))         \n",
    "        x = F.relu(self.fc2(x))         \n",
    "        x = F.relu(self.fc3(x))         \n",
    "        x = F.log_softmax(self.fc4(x), dim=1)                  \n",
    "        return x"
   ]
  },
  {
   "cell_type": "code",
   "execution_count": 3,
   "id": "3652684a",
   "metadata": {},
   "outputs": [],
   "source": [
    "# Define a transform to normalize the data\n",
    "transform = transforms.Compose([transforms.ToTensor(),\n",
    "                                transforms.Normalize([0.5], [0.5]),\n",
    "                              ])"
   ]
  },
  {
   "cell_type": "code",
   "execution_count": 4,
   "id": "4cb6eb68",
   "metadata": {},
   "outputs": [],
   "source": [
    "# Download and load the training data\n",
    "trainset = datasets.FashionMNIST('~/.pytorch/F_MNIST_data/',\n",
    "                                 download=True,\n",
    "                                 train=True,\n",
    "                                 transform=transform)\n",
    "\n",
    "trainloader = torch.utils.data.DataLoader(trainset,\n",
    "                                          batch_size=64,\n",
    "                                          shuffle=True)"
   ]
  },
  {
   "cell_type": "code",
   "execution_count": 5,
   "id": "37aa5a0d",
   "metadata": {},
   "outputs": [],
   "source": [
    "# load validation data\n",
    "testset = datasets.FashionMNIST('~/.pytorch/F_MNIST_data/',\n",
    "                                download=True,\n",
    "                                train=False,\n",
    "                                transform=transform)\n",
    "\n",
    "testloader = torch.utils.data.DataLoader(testset,\n",
    "                                         batch_size=64,\n",
    "                                         shuffle=True)"
   ]
  },
  {
   "cell_type": "code",
   "execution_count": 6,
   "id": "12bff541",
   "metadata": {},
   "outputs": [],
   "source": [
    "# define model, loss function and optimizer \n",
    "model = Classifier() \n",
    "criterion = nn.NLLLoss() \n",
    "optimizer = optim.SGD(model.parameters(), lr=0.003)"
   ]
  },
  {
   "cell_type": "code",
   "execution_count": 7,
   "id": "3337b7ea",
   "metadata": {},
   "outputs": [],
   "source": [
    "# hyperparameters\n",
    "epochs = 10\n",
    "\n",
    "# initialize cuda\n",
    "os.environ[\"CUDA_VISIBLE_DEVICES\"] = \"0\"\n",
    "dev = \"cuda\"\n",
    "device = torch.device(dev)"
   ]
  },
  {
   "cell_type": "code",
   "execution_count": 8,
   "id": "ba7b55b3",
   "metadata": {},
   "outputs": [],
   "source": [
    "model = model.cuda()"
   ]
  },
  {
   "cell_type": "code",
   "execution_count": 9,
   "id": "9b3a6c70",
   "metadata": {},
   "outputs": [
    {
     "name": "stdout",
     "output_type": "stream",
     "text": [
      "Training loss: 2.078247291447003\n",
      "Training loss: 1.1435460403783997\n",
      "Training loss: 0.7769509626985359\n",
      "Training loss: 0.6665145088551141\n",
      "Training loss: 0.6093936756348559\n",
      "Training loss: 0.5696920895817946\n",
      "Training loss: 0.5391988874689094\n",
      "Training loss: 0.515827895751767\n",
      "Training loss: 0.497341752830726\n",
      "Training loss: 0.4825355108263396\n"
     ]
    }
   ],
   "source": [
    "# training loop \n",
    "model.train()\n",
    "for e in range(epochs):     \n",
    "    train_loss = 0     \n",
    "    for images, labels in trainloader:         \n",
    "        images = images.view(images.shape[0], -1)\n",
    "        images, labels = images.to(device), labels.to(device)\n",
    "        \n",
    "        optimizer.zero_grad()\n",
    "        output = model.forward(images)        \n",
    "        loss = criterion(output, labels)         \n",
    "        loss.backward()         \n",
    "        optimizer.step()                  \n",
    "        train_loss += loss.item()\n",
    "    else:         \n",
    "        print(f\"Training loss: {train_loss/len(trainloader)}\")"
   ]
  },
  {
   "cell_type": "code",
   "execution_count": 10,
   "id": "75a3e6fb",
   "metadata": {},
   "outputs": [],
   "source": [
    "# get validation prediction \n",
    "model.eval()\n",
    "y_preds = np.empty((1))\n",
    "y_test = np.empty((1))\n",
    "for images, labels in testloader:\n",
    "    with torch.no_grad():\n",
    "        images = images.view(images.shape[0], -1)\n",
    "        images, labels = images.to(device), labels.to(device)\n",
    "        output = model.forward(images)\n",
    "        y_test = np.concatenate([y_test, labels.cpu().numpy()], axis=0)\n",
    "        _, top_class = output.topk(1, dim=1)\n",
    "        top_class_pred = np.squeeze(top_class.cpu().numpy())\n",
    "        y_preds = np.concatenate([y_preds,top_class_pred], axis=0)\n"
   ]
  },
  {
   "cell_type": "code",
   "execution_count": 11,
   "id": "0f91d858",
   "metadata": {},
   "outputs": [
    {
     "name": "stdout",
     "output_type": "stream",
     "text": [
      "0.8094190580941906\n"
     ]
    }
   ],
   "source": [
    "# get accuracy score of our model    \n",
    "y_test = y_test.astype(int)\n",
    "y_preds = y_preds.astype(int)\n",
    "print(accuracy_score(y_test, y_preds))"
   ]
  },
  {
   "cell_type": "code",
   "execution_count": 12,
   "id": "d6ac8226",
   "metadata": {},
   "outputs": [],
   "source": [
    "# save the model state\n",
    "torch.save(model.state_dict(), 'linear_mnist.pth')"
   ]
  },
  {
   "cell_type": "code",
   "execution_count": null,
   "id": "fa5f459d",
   "metadata": {},
   "outputs": [],
   "source": []
  }
 ],
 "metadata": {
  "kernelspec": {
   "display_name": "ml",
   "language": "python",
   "name": "ml"
  },
  "language_info": {
   "codemirror_mode": {
    "name": "ipython",
    "version": 3
   },
   "file_extension": ".py",
   "mimetype": "text/x-python",
   "name": "python",
   "nbconvert_exporter": "python",
   "pygments_lexer": "ipython3",
   "version": "3.8.8"
  }
 },
 "nbformat": 4,
 "nbformat_minor": 5
}

{
 "cells": [
  {
   "cell_type": "code",
   "execution_count": 1,
   "id": "35924d5b",
   "metadata": {},
   "outputs": [
    {
     "ename": "ModuleNotFoundError",
     "evalue": "No module named 'datasets'",
     "output_type": "error",
     "traceback": [
      "\u001b[0;31m---------------------------------------------------------------------------\u001b[0m",
      "\u001b[0;31mModuleNotFoundError\u001b[0m                       Traceback (most recent call last)",
      "\u001b[0;32m/tmp/ipykernel_85717/3541604289.py\u001b[0m in \u001b[0;36m<module>\u001b[0;34m\u001b[0m\n\u001b[0;32m----> 1\u001b[0;31m \u001b[0;32mfrom\u001b[0m \u001b[0mdatasets\u001b[0m\u001b[0;34m.\u001b[0m\u001b[0mtransforms\u001b[0m \u001b[0;32mimport\u001b[0m \u001b[0mImageTransform\u001b[0m\u001b[0;34m\u001b[0m\u001b[0;34m\u001b[0m\u001b[0m\n\u001b[0m\u001b[1;32m      2\u001b[0m \u001b[0;32mfrom\u001b[0m \u001b[0mmodels\u001b[0m\u001b[0;34m.\u001b[0m\u001b[0mhrp_ResNet18\u001b[0m \u001b[0;32mimport\u001b[0m \u001b[0mhrp_ResNet18\u001b[0m\u001b[0;34m\u001b[0m\u001b[0;34m\u001b[0m\u001b[0m\n\u001b[1;32m      3\u001b[0m \u001b[0;32mfrom\u001b[0m \u001b[0mPIL\u001b[0m \u001b[0;32mimport\u001b[0m \u001b[0mImage\u001b[0m\u001b[0;34m\u001b[0m\u001b[0;34m\u001b[0m\u001b[0m\n\u001b[1;32m      4\u001b[0m \u001b[0;32mimport\u001b[0m \u001b[0mtorch\u001b[0m\u001b[0;34m\u001b[0m\u001b[0;34m\u001b[0m\u001b[0m\n",
      "\u001b[0;31mModuleNotFoundError\u001b[0m: No module named 'datasets'"
     ]
    }
   ],
   "source": [
    "from datasets.transforms import ImageTransform\n",
    "from models.hrp_ResNet18 import hrp_ResNet18\n",
    "from PIL import Image\n",
    "import torch"
   ]
  },
  {
   "cell_type": "code",
   "execution_count": null,
   "id": "fe733be7",
   "metadata": {},
   "outputs": [],
   "source": [
    "oldModelPath = \"/home/sm/Documents/work/dl/cpp-pytorch/Modified_banded_w_grand_best_achieved_acc.pt\"\n",
    "section_path = \"/home/sm/Documents/work/sources/CAPgraph/capdata/modelling/020.992846_020.992846_020.992846.png\"\n",
    "newModelPath = \"/home/sm/Documents/work/dl/cpp-pytorch/libtorch_Modified_banded_w_grand_best_achieved_acc.pt\""
   ]
  },
  {
   "cell_type": "code",
   "execution_count": null,
   "id": "a1b8712f",
   "metadata": {},
   "outputs": [],
   "source": [
    "img = Image.open(section_path).convert(\"RGB\")\n",
    "# img.show()"
   ]
  },
  {
   "cell_type": "code",
   "execution_count": null,
   "id": "4be74af1",
   "metadata": {},
   "outputs": [],
   "source": [
    "transform = ImageTransform(base=\"val\",\n",
    "                           do_normalize=True,\n",
    "                           size=(75,100))\n",
    "model = hrp_ResNet18(64) #fc_input_ftrs = 64 (default)\n",
    "device = torch.device('cpu')"
   ]
  },
  {
   "cell_type": "code",
   "execution_count": null,
   "id": "e3d826f3",
   "metadata": {},
   "outputs": [],
   "source": [
    "model.load_state_dict(torch.load(oldModelPath, map_location=device).state_dict())"
   ]
  },
  {
   "cell_type": "code",
   "execution_count": null,
   "id": "69b408ae",
   "metadata": {},
   "outputs": [],
   "source": [
    "sample = transform(img, 0).unsqueeze(0).to('cpu')"
   ]
  },
  {
   "cell_type": "code",
   "execution_count": null,
   "id": "2671b23e",
   "metadata": {},
   "outputs": [],
   "source": [
    "print(sample.shape)"
   ]
  },
  {
   "cell_type": "code",
   "execution_count": null,
   "id": "ac8f069f",
   "metadata": {},
   "outputs": [],
   "source": [
    "out = model(sample)"
   ]
  },
  {
   "cell_type": "code",
   "execution_count": null,
   "id": "e9fe57a0",
   "metadata": {},
   "outputs": [],
   "source": [
    "print(out)"
   ]
  },
  {
   "cell_type": "code",
   "execution_count": null,
   "id": "90e404a1",
   "metadata": {},
   "outputs": [],
   "source": [
    "traced_script_module = torch.jit.trace(model, sample)"
   ]
  },
  {
   "cell_type": "code",
   "execution_count": null,
   "id": "d8ed7f9b",
   "metadata": {},
   "outputs": [],
   "source": [
    "traced_script_module.save(newModelPath)"
   ]
  },
  {
   "cell_type": "code",
   "execution_count": null,
   "id": "61137021",
   "metadata": {},
   "outputs": [],
   "source": []
  }
 ],
 "metadata": {
  "kernelspec": {
   "display_name": "ml",
   "language": "python",
   "name": "ml"
  },
  "language_info": {
   "codemirror_mode": {
    "name": "ipython",
    "version": 3
   },
   "file_extension": ".py",
   "mimetype": "text/x-python",
   "name": "python",
   "nbconvert_exporter": "python",
   "pygments_lexer": "ipython3",
   "version": "3.8.12"
  }
 },
 "nbformat": 4,
 "nbformat_minor": 5
}
